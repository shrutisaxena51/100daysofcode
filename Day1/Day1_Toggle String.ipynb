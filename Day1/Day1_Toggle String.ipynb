{
 "cells": [
  {
   "cell_type": "code",
   "execution_count": 4,
   "id": "a1d02bbb",
   "metadata": {},
   "outputs": [
    {
     "name": "stdout",
     "output_type": "stream",
     "text": [
      "ABcdFGhijKLMJFUI\n",
      "abCDfgHIJklmjfui\n"
     ]
    }
   ],
   "source": [
    "'''\n",
    "# Sample code to perform I/O:\n",
    "\n",
    "name = input()                  # Reading input from STDIN\n",
    "print('Hi, %s.' % name)         # Writing output to STDOUT\n",
    "\n",
    "# Warning: Printing unwanted or ill-formatted data to output will cause the test cases to fail\n",
    "You have been given a String S consisting of uppercase and lowercase English alphabets. You need to change the case of each alphabet in this String. That is, all the uppercase letters should be converted to lowercase and all the lowercase letters should be converted to uppercase. You need to then print the resultant String to output.\n",
    "Input Format\n",
    "The first and only line of input contains the String S\n",
    "Output Format\n",
    "Print the resultant String on a single line.\n",
    "Constraints\n",
    "1≤|S|≤100 where S denotes the length of string S.\n",
    "Sample Input\n",
    "abcdE\n",
    "Sample Output\n",
    "ABCDe\n",
    "\n",
    "\n",
    "'''\n",
    "\n",
    "# Write your code here\n",
    "str1=input()\n",
    "str_list=list(str1)\n",
    "out_list=[]\n",
    "for i in range(len(str_list)):\n",
    "    if(str_list[i].islower()):out_list.append(str_list[i].upper())\n",
    "    else:out_list.append(str_list[i].lower())\n",
    "\n",
    "outStr=\"\"\n",
    "outStr = ''.join(map(str, out_list))\n",
    "print(outStr)\n"
   ]
  }
 ],
 "metadata": {
  "kernelspec": {
   "display_name": "Python 3 (ipykernel)",
   "language": "python",
   "name": "python3"
  },
  "language_info": {
   "codemirror_mode": {
    "name": "ipython",
    "version": 3
   },
   "file_extension": ".py",
   "mimetype": "text/x-python",
   "name": "python",
   "nbconvert_exporter": "python",
   "pygments_lexer": "ipython3",
   "version": "3.9.9"
  }
 },
 "nbformat": 4,
 "nbformat_minor": 5
}
