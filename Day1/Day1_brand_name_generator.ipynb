{
 "cells": [
  {
   "cell_type": "code",
   "execution_count": 1,
   "id": "b22b7db2",
   "metadata": {},
   "outputs": [
    {
     "name": "stdout",
     "output_type": "stream",
     "text": [
      "Welcome to the Band Name Generator.\n",
      "What's the name of the city you are in?\n",
      "> Banglore\n",
      "What's your pet's name?\n",
      "> Simmy\n",
      "Your band name could be Banglore Simmy.\n"
     ]
    }
   ],
   "source": [
    "# Band Name Generator\n",
    "\n",
    "print(\"Welcome to the Band Name Generator.\")\n",
    "\n",
    "# initialize the variables\n",
    "city = \"\"\n",
    "pet_name = \"\"\n",
    "\n",
    "\n",
    "while True:\n",
    "    print(\"What's the name of the city you are in?\")\n",
    "    city = input(\"> \")\n",
    "    # if there's no input, ask again\n",
    "    if city == \"\":\n",
    "        print(\"You haven't entered anything. Please try again.\")\n",
    "    # if there's any input at all, break out of the loop\n",
    "    else:\n",
    "        break\n",
    "\n",
    "# do the same for the pet name\n",
    "while True:\n",
    "    print(\"What's your pet's name?\")\n",
    "    pet_name = input(\"> \")\n",
    "    if pet_name == \"\":\n",
    "        print(\"You haven't entered anything. Please try again.\")\n",
    "    else:\n",
    "        break\n",
    "\n",
    "# output using f-strings makes the code much more readable\n",
    "print(f\"Your band name could be {city} {pet_name}.\")\n"
   ]
  }
 ],
 "metadata": {
  "kernelspec": {
   "display_name": "Python 3 (ipykernel)",
   "language": "python",
   "name": "python3"
  },
  "language_info": {
   "codemirror_mode": {
    "name": "ipython",
    "version": 3
   },
   "file_extension": ".py",
   "mimetype": "text/x-python",
   "name": "python",
   "nbconvert_exporter": "python",
   "pygments_lexer": "ipython3",
   "version": "3.9.9"
  }
 },
 "nbformat": 4,
 "nbformat_minor": 5
}
